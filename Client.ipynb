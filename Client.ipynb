{
 "cells": [
  {
   "cell_type": "code",
   "execution_count": 1,
   "id": "e0970207",
   "metadata": {},
   "outputs": [],
   "source": [
    "import cv2, numpy, socket"
   ]
  },
  {
   "cell_type": "code",
   "execution_count": 2,
   "id": "eff41c8e",
   "metadata": {},
   "outputs": [],
   "source": [
    "s= socket.socket()\n",
    "ip = \"192.168.29.222\"\n",
    "port= 1234\n",
    "s.connect((ip,port))\n",
    "\n",
    "cap = cv2.VideoCapture(0)"
   ]
  },
  {
   "cell_type": "code",
   "execution_count": null,
   "id": "fe838879",
   "metadata": {},
   "outputs": [],
   "source": [
    "while True:\n",
    "    r, photo_c = cap.read()\n",
    "    p_data_c = cv2.imencode('.jpg', photo_c)[1].tobytes()\n",
    "    s.sendall(p_data_c)\n",
    "    \n",
    "    data_s = s.recv(1000000)\n",
    "    darray_s = numpy.frombuffer(data_s,numpy.uint8)\n",
    "    photo_s = cv2.imdecode(darray_s,cv2.IMREAD_COLOR)\n",
    "    if type(photo_s) == type(None):\n",
    "        pass\n",
    "    else:\n",
    "        cv2.imshow(\"Server calling\", photo_s)\n",
    "        if cv2.waitKey(100) == 13:\n",
    "            break\n",
    "cv2.destroyAllWindows()\n",
    "cap.release()"
   ]
  },
  {
   "cell_type": "code",
   "execution_count": null,
   "id": "d6efc4e3",
   "metadata": {},
   "outputs": [],
   "source": []
  }
 ],
 "metadata": {
  "kernelspec": {
   "display_name": "Python 3",
   "language": "python",
   "name": "python3"
  },
  "language_info": {
   "codemirror_mode": {
    "name": "ipython",
    "version": 3
   },
   "file_extension": ".py",
   "mimetype": "text/x-python",
   "name": "python",
   "nbconvert_exporter": "python",
   "pygments_lexer": "ipython3",
   "version": "3.7.1"
  }
 },
 "nbformat": 4,
 "nbformat_minor": 5
}
