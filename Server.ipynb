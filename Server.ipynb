{
 "cells": [
  {
   "cell_type": "code",
   "execution_count": null,
   "metadata": {},
   "outputs": [],
   "source": [
    "import cv2, numpy, socket"
   ]
  },
  {
   "cell_type": "code",
   "execution_count": null,
   "metadata": {},
   "outputs": [],
   "source": [
    "s= socket.socket()\n",
    "ip = \"\"\n",
    "port= 1234\n",
    "s.bind((ip,port))\n",
    "s.listen(5)\n",
    "c, addr = s.accept()\n"
   ]
  },
  {
   "cell_type": "code",
   "execution_count": null,
   "metadata": {},
   "outputs": [],
   "source": [
    "cap = cv2.VideoCapture(0)"
   ]
  },
  {
   "cell_type": "code",
   "execution_count": null,
   "metadata": {},
   "outputs": [],
   "source": [
    "\n",
    "while True:\n",
    "    data = c.recv(1000000)\n",
    "    darray_c = numpy.frombuffer(data,numpy.uint8)\n",
    "    photo_c = cv2.imdecode(darray,cv2.IMREAD_COLOR)\n",
    "    if type(photo_c) is type(None):\n",
    "        pass\n",
    "    else:\n",
    "        cv2.imshow(\"Client calling\", photo_c)\n",
    "        if cv2.waitKey(100) == 13:\n",
    "            break\n",
    "            \n",
    "    r, photo_s = cap.read()\n",
    "    p_data_s = cv2.imencode('.jpg', photo_s)[1].tobytes()\n",
    "    c.sendall(p_data_s)\n",
    "    \n",
    "cv2.destroyAllWindows()\n",
    "cap.release()"
   ]
  },
  {
   "cell_type": "code",
   "execution_count": null,
   "metadata": {},
   "outputs": [],
   "source": []
  }
 ],
 "metadata": {
  "kernelspec": {
   "display_name": "Python 3",
   "language": "python",
   "name": "python3"
  },
  "language_info": {
   "codemirror_mode": {
    "name": "ipython",
    "version": 3
   },
   "file_extension": ".py",
   "mimetype": "text/x-python",
   "name": "python",
   "nbconvert_exporter": "python",
   "pygments_lexer": "ipython3",
   "version": "3.7.7"
  }
 },
 "nbformat": 4,
 "nbformat_minor": 5
}
